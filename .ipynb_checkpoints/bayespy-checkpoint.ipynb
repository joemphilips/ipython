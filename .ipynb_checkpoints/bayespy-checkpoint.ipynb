{
 "cells": [
  {
   "cell_type": "code",
   "execution_count": 5,
   "metadata": {
    "collapsed": true
   },
   "outputs": [],
   "source": [
    "data = np.random.normal(5, 10, size = (10, ))\n",
    "%matplotlib inline"
   ]
  },
  {
   "cell_type": "code",
   "execution_count": 17,
   "metadata": {
    "collapsed": false
   },
   "outputs": [
    {
     "data": {
      "text/plain": [
       "(array([ 1.,  1.,  0.,  0.,  1.,  0.,  0.,  1.,  4.,  2.]),\n",
       " array([-16.87098435, -13.94485351, -11.01872266,  -8.09259182,\n",
       "         -5.16646097,  -2.24033013,   0.68580072,   3.61193156,\n",
       "          6.53806241,   9.46419325,  12.3903241 ]),\n",
       " <a list of 10 Patch objects>)"
      ]
     },
     "execution_count": 17,
     "metadata": {},
     "output_type": "execute_result"
    },
    {
     "data": {
      "image/png": "[encoded data removed]",
      "text/plain": [
       "<matplotlib.figure.Figure at 0x7f66c4f97c88>"
      ]
     },
     "metadata": {},
     "output_type": "display_data"
    }
   ],
   "source": [
    "plt.hist(data,bins = 10)"
   ]
  },
  {
   "cell_type": "code",
   "execution_count": 19,
   "metadata": {
    "collapsed": false
   },
   "outputs": [],
   "source": [
    "from bayespy.nodes import Gamma, GaussianARD"
   ]
  },
  {
   "cell_type": "code",
   "execution_count": 25,
   "metadata": {
    "collapsed": true
   },
   "outputs": [],
   "source": [
    "mu = GaussianARD(0, 1e-6)\n",
    "tau = Gamma(1e-6, 1e-6)\n",
    "y = GaussianARD(mu, tau, plates=(10,))"
   ]
  },
  {
   "cell_type": "code",
   "execution_count": 28,
   "metadata": {
    "collapsed": false
   },
   "outputs": [],
   "source": [
    "y.observe(data)\n",
    "from bayespy.inference import VB"
   ]
  },
  {
   "cell_type": "code",
   "execution_count": 31,
   "metadata": {
    "collapsed": false
   },
   "outputs": [
    {
     "name": "stdout",
     "output_type": "stream",
     "text": [
      "Iteration 1: loglike=-5.789001e+01 (0.003 seconds)\n",
      "Iteration 2: loglike=-5.611578e+01 (0.003 seconds)\n",
      "Iteration 3: loglike=-5.611343e+01 (0.002 seconds)\n",
      "Iteration 4: loglike=-5.611340e+01 (0.002 seconds)\n",
      "Converged at iteration 4.\n"
     ]
    }
   ],
   "source": [
    "Q = VB(mu, tau, y)\n",
    "Q.update(repeat=20)"
   ]
  },
  {
   "cell_type": "code",
   "execution_count": 35,
   "metadata": {
    "collapsed": false
   },
   "outputs": [
    {
     "ename": "Exception",
     "evalue": "No plotter defined, can not plot",
     "output_type": "error",
     "traceback": [
      "\u001b[1;31m---------------------------------------------------------------------------\u001b[0m",
      "\u001b[1;31mException\u001b[0m                                 Traceback (most recent call last)",
      "\u001b[1;32m<ipython-input-35-227b5ed062e2>\u001b[0m in \u001b[0;36m<module>\u001b[1;34m()\u001b[0m\n\u001b[0;32m      1\u001b[0m \u001b[1;32mimport\u001b[0m \u001b[0mbayespy\u001b[0m\u001b[1;33m.\u001b[0m\u001b[0mplot\u001b[0m \u001b[1;32mas\u001b[0m \u001b[0mbpplt\u001b[0m\u001b[1;33m\u001b[0m\u001b[0m\n\u001b[1;32m----> 2\u001b[1;33m \u001b[0mbpplt\u001b[0m\u001b[1;33m.\u001b[0m\u001b[0mNode\u001b[0m\u001b[1;33m.\u001b[0m\u001b[0mplot\u001b[0m\u001b[1;33m(\u001b[0m\u001b[0mtau\u001b[0m\u001b[1;33m)\u001b[0m\u001b[1;33m\u001b[0m\u001b[0m\n\u001b[0m",
      "\u001b[1;32m/home/miyamoto/.pyenv/versions/anaconda3-2.3.0/lib/python3.4/site-packages/bayespy/inference/vmp/nodes/node.py\u001b[0m in \u001b[0;36mplot\u001b[1;34m(self, fig, **kwargs)\u001b[0m\n\u001b[0;32m    705\u001b[0m             \u001b[1;32mreturn\u001b[0m \u001b[0max\u001b[0m\u001b[1;33m\u001b[0m\u001b[0m\n\u001b[0;32m    706\u001b[0m         \u001b[1;32melse\u001b[0m\u001b[1;33m:\u001b[0m\u001b[1;33m\u001b[0m\u001b[0m\n\u001b[1;32m--> 707\u001b[1;33m             \u001b[1;32mraise\u001b[0m \u001b[0mException\u001b[0m\u001b[1;33m(\u001b[0m\u001b[1;34m\"No plotter defined, can not plot\"\u001b[0m\u001b[1;33m)\u001b[0m\u001b[1;33m\u001b[0m\u001b[0m\n\u001b[0m\u001b[0;32m    708\u001b[0m \u001b[1;33m\u001b[0m\u001b[0m\n\u001b[0;32m    709\u001b[0m     \u001b[1;32mdef\u001b[0m \u001b[0m_convert\u001b[0m\u001b[1;33m(\u001b[0m\u001b[0mself\u001b[0m\u001b[1;33m,\u001b[0m \u001b[0mmoments_class\u001b[0m\u001b[1;33m)\u001b[0m\u001b[1;33m:\u001b[0m\u001b[1;33m\u001b[0m\u001b[0m\n",
      "\u001b[1;31mException\u001b[0m: No plotter defined, can not plot"
     ]
    },
    {
     "data": {
      "text/plain": [
       "<matplotlib.figure.Figure at 0x7f66a00c1d30>"
      ]
     },
     "metadata": {},
     "output_type": "display_data"
    }
   ],
   "source": [
    "import bayespy.plot as bpplt\n",
    "bpplt.pyplot()"
   ]
  },
  {
   "cell_type": "code",
   "execution_count": 81,
   "metadata": {
    "collapsed": true
   },
   "outputs": [],
   "source": [
    "from bayespy.nodes import Gaussian, Wishart, Dot\n",
    "mu = Gaussian([0, 0], [[1e-6, 0], [0, 1e-6]])\n",
    "Lambda = Wishart(2, [[1, 0],[0, 1]])\n",
    "X = Gaussian(mu, Lambda, name = 'x')"
   ]
  },
  {
   "cell_type": "markdown",
   "metadata": {},
   "source": [
    "# PPCAの例\n",
    "## グラフィカルモデルの作成"
   ]
  },
  {
   "cell_type": "code",
   "execution_count": 89,
   "metadata": {
    "collapsed": false
   },
   "outputs": [
    {
     "data": {
      "text/latex": [
       "$Y = CX^T + noise$　\n",
       "と仮定する。ただし$Y$はM×Nのデータ行列で、CはM×Cのローディング行列、XはN×Dの潜在変数行列である\n",
       "\n",
       "主成分分析で次元を削減するので、通常、Dの次元は、M,Nよりずっと小さくなる。確率的表現をすると\n",
       "\n",
       "$$\n",
       "p(Y) = \\prod_{m=0}^{M-1}\\prod_{n=0}^{N-1}N(y_{mn}|c_m^T,x_{mn},\\tau)\n",
       "$$\n",
       "$$p(X) = \\prod_{n=0}^{N-1}\\prod_{d=0}^{D-1}N(x_{nd}|0,1)$$\n",
       "$$p(C) = \\prod$$\n",
       "$$p（C） = \\prod$$\n",
       "...\n",
       "\n",
       "長いので省略"
      ],
      "text/plain": [
       "<IPython.core.display.Latex object>"
      ]
     },
     "metadata": {},
     "output_type": "display_data"
    }
   ],
   "source": [
    "\n",
    "\n",
    "%%latex\n",
    "$Y = CX^T + noise$　\n",
    "と仮定する。ただし$Y$はM×Nのデータ行列で、CはM×Cのローディング行列、XはN×Dの潜在変数行列である\n",
    "\n",
    "主成分分析で次元を削減するので、通常、Dの次元は、M,Nよりずっと小さくなる。確率的表現をすると\n",
    "\n",
    "$$\n",
    "p(Y) = \\prod_{m=0}^{M-1}\\prod_{n=0}^{N-1}N(y_{mn}|c_m^T,x_{mn},\\tau)\n",
    "$$\n",
    "$$p(X) = \\prod_{n=0}^{N-1}\\prod_{d=0}^{D-1}N(x_{nd}|0,1)$$\n",
    "$$p(C) = \\prod$$\n",
    "$$p（C） = \\prod$$\n",
    "...\n",
    "\n",
    "長いので省略\n"
   ]
  },
  {
   "cell_type": "markdown",
   "metadata": {},
   "source": [
    "グラフィカルモデルで表すと\n",
    "<img src=\"./img/Graphical_PPCA.jpg\">"
   ]
  },
  {
   "cell_type": "markdown",
   "metadata": {},
   "source": [
    "Cの事前確率としてautomatic relevance determination(ARD)が与えられていると考える"
   ]
  },
  {
   "cell_type": "code",
   "execution_count": 116,
   "metadata": {
    "collapsed": true
   },
   "outputs": [],
   "source": [
    "D = 3\n",
    "X = GaussianARD(0, 1, shape=(D,),\n",
    "               plates=(1, 100),\n",
    "               name='X')\n",
    "alpha = Gamma(1e-3, 1e-3,\n",
    "             plates=(D,),\n",
    "             name='alpha')\n",
    "C = GaussianARD(0, alpha,\n",
    "               shape=(D,),\n",
    "               plates=(10,1),\n",
    "               name='C')"
   ]
  },
  {
   "cell_type": "code",
   "execution_count": 117,
   "metadata": {
    "collapsed": false
   },
   "outputs": [],
   "source": [
    "F = Dot(C,X)"
   ]
  },
  {
   "cell_type": "code",
   "execution_count": 118,
   "metadata": {
    "collapsed": false
   },
   "outputs": [
    {
     "data": {
      "text/plain": [
       "(10, 100)"
      ]
     },
     "execution_count": 118,
     "metadata": {},
     "output_type": "execute_result"
    }
   ],
   "source": [
    "F.plates"
   ]
  },
  {
   "cell_type": "code",
   "execution_count": 119,
   "metadata": {
    "collapsed": true
   },
   "outputs": [],
   "source": [
    "tau = Gamma(12-3, 1e-3, name='tau')  ##ノイズ\n",
    "Y = GaussianARD(F, tau, name='Y')"
   ]
  },
  {
   "cell_type": "markdown",
   "metadata": {},
   "source": [
    "## データの当てはめ"
   ]
  },
  {
   "cell_type": "code",
   "execution_count": 122,
   "metadata": {
    "collapsed": true
   },
   "outputs": [],
   "source": [
    "c = np.random.randn(10, 2)\n",
    "x = np.random.randn(2, 100)\n",
    "data = np.dot(c, x) + 0.1 * np.random.randn(10, 100)\n",
    "Y.observe(data)"
   ]
  },
  {
   "cell_type": "code",
   "execution_count": 123,
   "metadata": {
    "collapsed": false
   },
   "outputs": [
    {
     "data": {
      "text/plain": [
       "<matplotlib.collections.PathCollection at 0x7f669d74ef28>"
      ]
     },
     "execution_count": 123,
     "metadata": {},
     "output_type": "execute_result"
    },
    {
     "data": {
      "image/png": "[encoded data removed]",
      "text/plain": [
       "<matplotlib.figure.Figure at 0x7f669e598be0>"
      ]
     },
     "metadata": {},
     "output_type": "display_data"
    }
   ],
   "source": [
    "plt.scatter(data[0], data[1])"
   ]
  },
  {
   "cell_type": "markdown",
   "metadata": {},
   "source": [
    "### 欠損値"
   ]
  },
  {
   "cell_type": "code",
   "execution_count": 128,
   "metadata": {
    "collapsed": false
   },
   "outputs": [
    {
     "data": {
      "text/plain": [
       "(10, 100)"
      ]
     },
     "execution_count": 128,
     "metadata": {},
     "output_type": "execute_result"
    }
   ],
   "source": [
    "Y.observe(data, mask=[[True], [False], [False], [True], [True],\n",
    "                      [False], [True], [True], [True], [False]])\n",
    "Y.plates"
   ]
  },
  {
   "cell_type": "markdown",
   "metadata": {},
   "source": [
    "Trueは値が観測されたことを、Falseはされなかったことを示す。\n",
    "maskの形は(10, 1)なので(10, 100)であるYにブロードキャスティングされ、全ての行(100)に対して列2, 3, 6, 10が欠けている状態になる。\n",
    "欠損値は自動的に周辺化される\n",
    "\n",
    "## 推定"
   ]
  },
  {
   "cell_type": "code",
   "execution_count": 131,
   "metadata": {
    "collapsed": false
   },
   "outputs": [
    {
     "data": {
      "text/plain": [
       "<bayespy.inference.vmp.nodes.gaussian.GaussianARD at 0x7f669dc2ccc0>"
      ]
     },
     "execution_count": 131,
     "metadata": {},
     "output_type": "execute_result"
    }
   ],
   "source": [
    "from bayespy.inference import VB\n",
    "Q = VB(Y, C, X, alpha, tau)\n",
    "Q['X']"
   ]
  },
  {
   "cell_type": "markdown",
   "metadata": {},
   "source": [
    "### 初期化\n",
    "X.initialize\\*\n",
    "を見ればどんな初期値を色々な方法で決定できることがわかる。\n",
    "デフォルトは`initialize_from_prior()`"
   ]
  },
  {
   "cell_type": "code",
   "execution_count": 136,
   "metadata": {
    "collapsed": true
   },
   "outputs": [],
   "source": [
    "X.initialize_from_parameters(np.random.randn(1, 100, D), 10) #GaussianARDオブジェクトの場合、第二引数は精度行列を表すので分散は1/10になる"
   ]
  },
  {
   "cell_type": "markdown",
   "metadata": {},
   "source": [
    "このように、Xの平均を散らすことが極めて重要である。なぜなら、デフォルトのinitializationは、平均を0にするため、なんかうまくいかない場合があるらしい"
   ]
  },
  {
   "cell_type": "code",
   "execution_count": 139,
   "metadata": {
    "collapsed": false
   },
   "outputs": [
    {
     "name": "stdout",
     "output_type": "stream",
     "text": [
      "Iteration 4: loglike=-9.876682e+02 (0.021 seconds)\n",
      "Iteration 5: loglike=-7.530524e+02 (0.017 seconds)\n",
      "Iteration 6: loglike=-6.223972e+02 (0.013 seconds)\n",
      "Iteration 7: loglike=-4.901729e+02 (0.013 seconds)\n",
      "Iteration 8: loglike=-4.123372e+02 (0.013 seconds)\n",
      "Iteration 9: loglike=-3.803797e+02 (0.013 seconds)\n",
      "Iteration 10: loglike=-3.697965e+02 (0.013 seconds)\n",
      "Iteration 11: loglike=-3.653478e+02 (0.013 seconds)\n",
      "Iteration 12: loglike=-3.622967e+02 (0.013 seconds)\n",
      "Iteration 13: loglike=-3.596080e+02 (0.012 seconds)\n",
      "Iteration 14: loglike=-3.570665e+02 (0.011 seconds)\n",
      "Iteration 15: loglike=-3.546184e+02 (0.011 seconds)\n"
     ]
    }
   ],
   "source": [
    "## iterateする\n",
    "Q.update()\n",
    "## 特定のノードを指定して、アップデートする\n",
    "Q.update(C, X, C, tau)\n",
    "\n",
    "##回数を指定してupdateする\n",
    "Q.update(repeat=10)"
   ]
  },
  {
   "cell_type": "code",
   "execution_count": 142,
   "metadata": {
    "collapsed": false
   },
   "outputs": [
    {
     "name": "stdout",
     "output_type": "stream",
     "text": [
      "Iteration 2016: loglike=-1.486560e+02 (0.015 seconds)\n",
      "Converged at iteration 2016.\n"
     ]
    }
   ],
   "source": [
    "## 十分な回数を行えば、自動的に収束する\n",
    "## tolで閾値を指定\n",
    "Q.update(repeat=1000, tol = 1e-3)"
   ]
  },
  {
   "cell_type": "code",
   "execution_count": 143,
   "metadata": {
    "collapsed": true
   },
   "outputs": [],
   "source": [
    "## それぞれのノードを直接アップデートすることも可能だが、特別な理由がない限りしない方がいい\n",
    "C.update()\n",
    "Q['C'].update()"
   ]
  },
  {
   "cell_type": "markdown",
   "metadata": {},
   "source": [
    "#### parameter expansion\n",
    "時にVBは収束が遅くなることがある。これは変数同士が、真の事後分布において強く相関(coupled)しているが、approximate posteriorで周辺化されている場合に起こる。variational variablesのsigzagingにつながる(?)ためである。\n",
    "こういった場合、parameter expansion を使用する.\n",
    "これは、auxiliary variablesを用いていくつかの変数をparameterizeし、推定することで、いくつかの事後分布を求めるので高速になる。\n",
    "model specificである。\n",
    "\n",
    "以下のように分解する。"
   ]
  },
  {
   "cell_type": "code",
   "execution_count": 146,
   "metadata": {
    "collapsed": false
   },
   "outputs": [
    {
     "data": {
      "text/latex": [
       "\n",
       "$$\n",
       "y = c^Tx + noise = c^TRR^{-1} + noise = (R^Tc)^T(R^{-1}x) + noise\n",
       "$$"
      ],
      "text/plain": [
       "<IPython.core.display.Latex object>"
      ]
     },
     "metadata": {},
     "output_type": "display_data"
    }
   ],
   "source": [
    "%%latex\n",
    "\n",
    "$$\n",
    "y = c^Tx + noise = c^TRR^{-1} + noise = (R^Tc)^T(R^{-1}x) + noise\n",
    "$$"
   ]
  },
  {
   "cell_type": "code",
   "execution_count": 147,
   "metadata": {
    "collapsed": true
   },
   "outputs": [],
   "source": [
    "from bayespy.inference.vmp import transformations\n",
    "rotX = transformations.RotateGaussianARD(X)\n",
    "rotC = transformations.RotateGaussianARD(C, alpha)"
   ]
  },
  {
   "cell_type": "code",
   "execution_count": 149,
   "metadata": {
    "collapsed": true
   },
   "outputs": [],
   "source": [
    "R = transformations.RotationOptimizer(rotC, rotX, D)\n",
    "R.rotate()"
   ]
  },
  {
   "cell_type": "code",
   "execution_count": 151,
   "metadata": {
    "collapsed": true
   },
   "outputs": [],
   "source": [
    "alpha.initialize_from_prior()\n",
    "C.initialize_from_prior()\n",
    "X.initialize_from_parameters(np.random.rand(1, 100, D), 10)\n",
    "tau.initialize_from_prior()\n",
    "Q = VB(Y, C, X, alpha, tau)"
   ]
  },
  {
   "cell_type": "code",
   "execution_count": 152,
   "metadata": {
    "collapsed": true
   },
   "outputs": [],
   "source": [
    "## それぞれのiterationごとにrotationが走るようにする\n",
    "Q.callback = R.rotate"
   ]
  },
  {
   "cell_type": "code",
   "execution_count": 154,
   "metadata": {
    "collapsed": false
   },
   "outputs": [
    {
     "name": "stdout",
     "output_type": "stream",
     "text": [
      "Iteration 14: loglike=-1.483548e+02 (0.021 seconds)\n",
      "Iteration 15: loglike=-1.483492e+02 (0.013 seconds)\n",
      "Iteration 16: loglike=-1.483452e+02 (0.013 seconds)\n",
      "Iteration 17: loglike=-1.483423e+02 (0.013 seconds)\n",
      "Iteration 18: loglike=-1.483402e+02 (0.011 seconds)\n",
      "Iteration 19: loglike=-1.483386e+02 (0.011 seconds)\n",
      "Iteration 20: loglike=-1.483374e+02 (0.011 seconds)\n",
      "Iteration 21: loglike=-1.483365e+02 (0.011 seconds)\n",
      "Iteration 22: loglike=-1.483358e+02 (0.011 seconds)\n",
      "Iteration 23: loglike=-1.483352e+02 (0.011 seconds)\n",
      "Iteration 24: loglike=-1.483348e+02 (0.011 seconds)\n",
      "Iteration 25: loglike=-1.483345e+02 (0.011 seconds)\n",
      "Iteration 26: loglike=-1.483342e+02 (0.011 seconds)\n",
      "Iteration 27: loglike=-1.483339e+02 (0.011 seconds)\n",
      "Iteration 28: loglike=-1.483337e+02 (0.011 seconds)\n",
      "Iteration 29: loglike=-1.483336e+02 (0.011 seconds)\n",
      "Iteration 30: loglike=-1.483334e+02 (0.011 seconds)\n",
      "Converged at iteration 30.\n"
     ]
    }
   ],
   "source": [
    "Q.update(repeat=1000, tol=1e-6)#より少ない反復で収束する"
   ]
  },
  {
   "cell_type": "markdown",
   "metadata": {},
   "source": [
    "### 結果の分析"
   ]
  },
  {
   "cell_type": "code",
   "execution_count": 155,
   "metadata": {
    "collapsed": true
   },
   "outputs": [],
   "source": [
    "import bayespy.plot as bpplot"
   ]
  },
  {
   "cell_type": "code",
   "execution_count": 157,
   "metadata": {
    "collapsed": true
   },
   "outputs": [],
   "source": [
    "bpplt.pyplot.ion() #enable interacting plot"
   ]
  },
  {
   "cell_type": "code",
   "execution_count": 168,
   "metadata": {
    "collapsed": false
   },
   "outputs": [
    {
     "data": {
      "text/plain": [
       "<matplotlib.contour.QuadContourSet at 0x7f669d4096a0>"
      ]
     },
     "execution_count": 168,
     "metadata": {},
     "output_type": "execute_result"
    },
    {
     "data": {
      "image/png": "[encoded data removed]",
      "text/plain": [
       "<matplotlib.figure.Figure at 0x7f669d540ef0>"
      ]
     },
     "metadata": {},
     "output_type": "display_data"
    },
    {
     "data": {
      "image/png": "[encoded data removed]",
      "text/plain": [
       "<matplotlib.figure.Figure at 0x7f669d450940>"
      ]
     },
     "metadata": {},
     "output_type": "display_data"
    }
   ],
   "source": [
    "bpplt.pdf(Q['tau'], np.linspace(60, 140, num=100)) #スカラー値の確率分布を表示\n",
    "V = Gaussian([3, 5], [[4, 2], [2, 5]])\n",
    "bpplt.pyplot.figure()\n",
    "bpplt.contour(V, np.linspace(1, 5, num=100), np.linspace(3, 7, num = 100))"
   ]
  },
  {
   "cell_type": "code",
   "execution_count": 169,
   "metadata": {
    "collapsed": false
   },
   "outputs": [
    {
     "data": {
      "image/png": "[encoded data removed]",
      "text/plain": [
       "<matplotlib.figure.Figure at 0x7f669d3bdd30>"
      ]
     },
     "metadata": {},
     "output_type": "display_data"
    }
   ],
   "source": [
    "bpplot.pyplot.figure()\n",
    "bpplt.hinton(C)"
   ]
  },
  {
   "cell_type": "markdown",
   "metadata": {},
   "source": [
    "行列Cのそれぞれの要素を示す。白または黒で塗りつぶされている正方形は要素の平均を表し、大きさは絶対値に対応している。白は正、黒は負を表す\n"
   ]
  }
 ],
 "metadata": {
  "kernelspec": {
   "display_name": "Python 3",
   "language": "python",
   "name": "python3"
  },
  "language_info": {
   "codemirror_mode": {
    "name": "ipython",
    "version": 3
   },
   "file_extension": ".py",
   "mimetype": "text/x-python",
   "name": "python",
   "nbconvert_exporter": "python",
   "pygments_lexer": "ipython3",
   "version": "3.4.3"
  }
 },
 "nbformat": 4,
 "nbformat_minor": 0
}
