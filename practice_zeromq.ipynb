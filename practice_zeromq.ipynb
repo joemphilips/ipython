{
 "cells": [
  {
   "cell_type": "code",
   "execution_count": 2,
   "metadata": {
    "collapsed": false
   },
   "outputs": [
    {
     "name": "stdout",
     "output_type": "stream",
     "text": [
      "Bayesian.ipynb                     \u001b[0m\u001b[01;34mpydata-book\u001b[0m/\r\n",
      "bayespy.ipynb                      Pystan.ipynb\r\n",
      "comparing_plotting_packages.ipynb  python_for_data_analytics.ipynb\r\n",
      "\u001b[01;34mimg\u001b[0m/                               README.md\r\n",
      "iwmm_single_cell.ipynb             Scipy_practice.ipynb\r\n",
      "linear_model.stan                  summarize_count.ipynb\r\n",
      "mn-budget-detail-2014.csv          try_plotly.ipynb\r\n",
      "plotly_tutorial.ipynb              Untitled1.ipynb\r\n",
      "practice_zeromq.ipynb\r\n"
     ]
    }
   ],
   "source": [
    "%ls"
   ]
  },
  {
   "cell_type": "code",
   "execution_count": null,
   "metadata": {
    "collapsed": true
   },
   "outputs": [],
   "source": []
  }
 ],
 "metadata": {
  "kernelspec": {
   "display_name": "Python 3",
   "language": "python",
   "name": "python3"
  },
  "language_info": {
   "codemirror_mode": {
    "name": "ipython",
    "version": 3
   },
   "file_extension": ".py",
   "mimetype": "text/x-python",
   "name": "python",
   "nbconvert_exporter": "python",
   "pygments_lexer": "ipython3",
   "version": "3.4.3"
  }
 },
 "nbformat": 4,
 "nbformat_minor": 0
}
